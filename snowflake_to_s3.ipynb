{
 "cells": [
  {
   "cell_type": "markdown",
   "metadata": {
    "application/vnd.databricks.v1+cell": {
     "cellMetadata": {},
     "inputWidgets": {},
     "nuid": "a32dd6e0-2d88-4539-86a3-a2f1bc2330e3",
     "showTitle": false,
     "tableResultSettingsMap": {},
     "title": ""
    }
   },
   "source": [
    "Before run this code refer Snowflake_toS3_README file for understanding the code."
   ]
  },
  {
   "cell_type": "markdown",
   "metadata": {
    "application/vnd.databricks.v1+cell": {
     "cellMetadata": {},
     "inputWidgets": {},
     "nuid": "c92901d2-8d0d-48c7-b565-3d14f7a6154e",
     "showTitle": false,
     "tableResultSettingsMap": {},
     "title": ""
    }
   },
   "source": [
    "Refer https://snowflakewiki.medium.com/connecting-snowflake-to-aws-ef7b6de1d6aa"
   ]
  },
  {
   "cell_type": "markdown",
   "metadata": {
    "application/vnd.databricks.v1+cell": {
     "cellMetadata": {},
     "inputWidgets": {},
     "nuid": "7c74255e-0eed-421f-b945-fe70b3818c90",
     "showTitle": false,
     "tableResultSettingsMap": {},
     "title": ""
    }
   },
   "source": [
    "Run below code in snowflake SQL editor"
   ]
  },
  {
   "cell_type": "code",
   "execution_count": 0,
   "metadata": {
    "application/vnd.databricks.v1+cell": {
     "cellMetadata": {},
     "inputWidgets": {},
     "nuid": "5ee923b2-ca4a-4bca-a7d0-4ce42e065935",
     "showTitle": false,
     "tableResultSettingsMap": {},
     "title": ""
    }
   },
   "outputs": [],
   "source": [
    "%sql\n",
    "-- Storage Integration\n",
    "CREATE OR REPLACE STORAGE INTEGRATION snowflake_s3 \n",
    "TYPE = EXTERNAL_STAGE\n",
    "STORAGE_PROVIDER = 'S3'\n",
    "ENABLED = TRUE\n",
    "STORAGE_AWS_ROLE_ARN = 'arn:aws:iam::982534391219:role/snowflake-s3-role'\n",
    "STORAGE_ALLOWED_LOCATIONS = ('s3://remorph-reconcile-snowflake/');\n",
    "\n",
    "-- File Format\n",
    "Create or replace file format unloading__ff\n",
    "type = \"csv\"\n",
    "empty_field_as_null=true\n",
    "skip_header=0 \n",
    "compression = none; \n",
    "\n",
    "-- Stage \n",
    "create or replace stage unload_stage\n",
    "url = 's3://remorph-reconcile-snowflake/'\n",
    "storage_integration = snowflake_s3\n",
    "file_format = unloading__ff;\n",
    "\n",
    "\n",
    "-- Copying itno AWS\n",
    "Copy into @unload_stage/product\n",
    "from product_sale\n",
    "HEADER = TRUE\n",
    "overwrite = true;"
   ]
  }
 ],
 "metadata": {
  "application/vnd.databricks.v1+notebook": {
   "computePreferences": null,
   "dashboards": [],
   "environmentMetadata": {
    "base_environment": "",
    "client": "2"
   },
   "language": "python",
   "notebookMetadata": {
    "pythonIndentUnit": 4
   },
   "notebookName": "snowflake_to_s3",
   "widgets": {}
  },
  "language_info": {
   "name": "python"
  }
 },
 "nbformat": 4,
 "nbformat_minor": 0
}
